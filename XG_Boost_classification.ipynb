{
  "nbformat": 4,
  "nbformat_minor": 0,
  "metadata": {
    "colab": {
      "provenance": [],
      "gpuType": "T4"
    },
    "kernelspec": {
      "name": "python3",
      "display_name": "Python 3"
    },
    "language_info": {
      "name": "python"
    },
    "accelerator": "GPU"
  },
  "cells": [
    {
      "cell_type": "code",
      "execution_count": 5,
      "metadata": {
        "colab": {
          "base_uri": "https://localhost:8080/"
        },
        "id": "MGxxoxR3eXPN",
        "outputId": "4be136f2-fa6b-47ad-bd6a-9d62713fbb0e"
      },
      "outputs": [
        {
          "output_type": "stream",
          "name": "stdout",
          "text": [
            "Mean Squared Error: 0.25\n"
          ]
        }
      ],
      "source": [
        "pip install xgboost scikit-learn"
      ]
    },
    {
      "cell_type": "code",
      "source": [
        "import xgboost as xgb\n",
        "import numpy as np\n",
        "from sklearn.datasets import load_iris\n",
        "from sklearn.model_selection import train_test_split\n",
        "from sklearn.metrics import accuracy_score\n",
        "\n",
        "# Load the Iris dataset\n",
        "iris = load_iris()\n",
        "X = iris.data\n",
        "y = iris.target\n",
        "\n",
        "# Split the dataset into training and testing sets\n",
        "X_train, X_test, y_train, y_test = train_test_split(X, y, test_size=0.2, random_state=42)\n",
        "\n",
        "# Define the XGBoost classifier model\n",
        "xgb_classifier = xgb.XGBClassifier(tree_method='hist', device='cuda', n_jobs=-1, random_state=42)\n",
        "\n",
        "# Hyperparameters explanation:\n",
        "# 1. 'n_estimators': Number of boosting rounds (trees) to build. More trees can lead to overfitting but can improve performance.\n",
        "# 2. 'learning_rate': Step size shrinkage to prevent overfitting. Smaller values require more boosting rounds but can lead to better generalization.\n",
        "# 3. 'max_depth': Maximum depth of a tree. Controls the complexity of the trees. Deeper trees can capture more information but can lead to overfitting.\n",
        "# 4. 'subsample': Subsample ratio of the training instances. Controls the fraction of samples used for fitting the individual trees.\n",
        "#                 Lower values prevent overfitting but might increase bias.\n",
        "# 5. 'colsample_bytree': Subsample ratio of columns when constructing each tree. Controls the fraction of features used for building the trees.\n",
        "#                        Lower values prevent overfitting but might increase bias.\n",
        "# 6. 'gamma': Minimum loss reduction required to make a further partition on a leaf node. Regularization parameter that controls the tree complexity.\n",
        "#             Higher values make the algorithm more conservative.\n",
        "# 7. 'reg_alpha': L1 regularization term on weights. Encourages sparsity in the weight vectors.\n",
        "# 8. 'reg_lambda': L2 regularization term on weights. Controls the smoothness of the weights.\n",
        "# 9. 'scale_pos_weight': Controls the balance of positive and negative weights, useful for imbalanced datasets.\n",
        "# 10. 'objective': Specifies the learning task and the corresponding loss function. For classification, 'binary:logistic' or 'multi:softmax' are common.\n",
        "# 11. 'eval_metric': Metric to be used for model evaluation during training. Common choices include 'error' (classification error) and 'logloss' (negative log-likelihood).\n",
        "# 12. 'random_state': Random number seed for reproducibility.\n",
        "\n",
        "# Train the XGBoost classifier model\n",
        "xgb_classifier.fit(X_train, y_train)\n",
        "\n",
        "# Make predictions on the test data\n",
        "y_pred = xgb_classifier.predict(X_test)\n",
        "\n",
        "# Calculate the accuracy of the predictions\n",
        "accuracy = accuracy_score(y_test, y_pred)\n",
        "print(f\"Accuracy: {accuracy:.2f}\")\n"
      ],
      "metadata": {
        "colab": {
          "base_uri": "https://localhost:8080/"
        },
        "id": "kbWQmPyhfNWm",
        "outputId": "b97ce6ab-89eb-4ba9-a84b-3fa14bb2620e"
      },
      "execution_count": 17,
      "outputs": [
        {
          "output_type": "stream",
          "name": "stdout",
          "text": [
            "Accuracy: 1.00\n"
          ]
        }
      ]
    },
    {
      "cell_type": "markdown",
      "source": [
        "# With Grid Search cv\n"
      ],
      "metadata": {
        "id": "qudWAyI5fcpu"
      }
    },
    {
      "cell_type": "code",
      "source": [
        "import xgboost as xgb\n",
        "import numpy as np\n",
        "from sklearn.datasets import load_iris\n",
        "from sklearn.model_selection import train_test_split, GridSearchCV\n",
        "from sklearn.metrics import accuracy_score\n",
        "\n",
        "# Load the Iris dataset\n",
        "iris = load_iris()\n",
        "X = iris.data\n",
        "y = iris.target\n",
        "\n",
        "# Split the dataset into training and testing sets\n",
        "X_train, X_test, y_train, y_test = train_test_split(X, y, test_size=0.2, random_state=42)\n",
        "\n",
        "# Define the XGBoost classifier model\n",
        "xgb_classifier = xgb.XGBClassifier(tree_method='hist', device='cuda', n_jobs=-1, random_state=42)\n",
        "\n",
        "# Define the hyperparameter grid for GridSearchCV\n",
        "param_grid = {\n",
        "    'learning_rate': [0.1, 0.2],\n",
        "    'max_depth': [3, 5],\n",
        "    'subsample': [0.8, 1.0],\n",
        "    'colsample_bytree': [0.3, 0.7],\n",
        "    'gamma': [0, 0.1],\n",
        "    'reg_alpha': [0, 1],\n",
        "    'reg_lambda': [0, 1],\n",
        "    'n_estimators': [100, 200],\n",
        "}\n",
        "\n",
        "# Setup GridSearchCV\n",
        "grid_search = GridSearchCV(estimator=xgb_classifier, param_grid=param_grid, cv=2, scoring='accuracy', n_jobs=-1, verbose=1)\n",
        "\n",
        "# Fit the model using grid search\n",
        "grid_search.fit(X_train, y_train)\n",
        "\n",
        "# Get the best parameters and best score\n",
        "best_params = grid_search.best_params_\n",
        "best_score = grid_search.best_score_\n",
        "\n",
        "print(\"Best Parameters:\", best_params)\n",
        "print(\"Best Accuracy:\", best_score)\n",
        "\n",
        "# Make predictions on the test data using the best model\n",
        "best_model = grid_search.best_estimator_\n",
        "y_pred = best_model.predict(X_test)\n",
        "\n",
        "# Calculate the accuracy of the predictions\n",
        "accuracy = accuracy_score(y_test, y_pred)\n",
        "print(\"Accuracy on Test Set:\", accuracy)\n"
      ],
      "metadata": {
        "colab": {
          "base_uri": "https://localhost:8080/"
        },
        "id": "loFR4iceeiPI",
        "outputId": "f36520b7-6d30-4063-e68c-78d36350b84a"
      },
      "execution_count": 21,
      "outputs": [
        {
          "output_type": "stream",
          "name": "stdout",
          "text": [
            "Fitting 2 folds for each of 256 candidates, totalling 512 fits\n",
            "Best Parameters: {'colsample_bytree': 0.7, 'gamma': 0, 'learning_rate': 0.1, 'max_depth': 3, 'n_estimators': 100, 'reg_alpha': 0, 'reg_lambda': 0, 'subsample': 0.8}\n",
            "Best Accuracy: 0.9333333333333333\n",
            "Accuracy on Test Set: 1.0\n"
          ]
        }
      ]
    },
    {
      "cell_type": "code",
      "source": [],
      "metadata": {
        "id": "oOFiwNifhIM-"
      },
      "execution_count": null,
      "outputs": []
    }
  ]
}